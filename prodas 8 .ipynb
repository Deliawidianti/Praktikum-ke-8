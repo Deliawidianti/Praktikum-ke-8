{
 "cells": [
  {
   "cell_type": "code",
   "execution_count": 4,
   "id": "fea2e499-2e3e-420d-be57-5e458ea5f980",
   "metadata": {},
   "outputs": [],
   "source": [
    "import pandas as pd"
   ]
  },
  {
   "cell_type": "code",
   "execution_count": 3,
   "id": "233192f6-47b2-465e-a98b-32f5509b28ce",
   "metadata": {},
   "outputs": [
    {
     "name": "stdout",
     "output_type": "stream",
     "text": [
      "2.1.4\n"
     ]
    }
   ],
   "source": [
    "print(pd.__version__)"
   ]
  },
  {
   "cell_type": "code",
   "execution_count": 5,
   "id": "e964ee57-1f4d-4c1f-af35-d4fdf22b4989",
   "metadata": {},
   "outputs": [],
   "source": [
    "teman =['Aldi Gunawan', 'Risti Tagor', 'Herman Pelani', 'Anjasmara', 'Roger']"
   ]
  },
  {
   "cell_type": "code",
   "execution_count": 6,
   "id": "8147169d-8032-44b9-af11-6f467b769b44",
   "metadata": {},
   "outputs": [
    {
     "data": {
      "text/plain": [
       "0     Aldi Gunawan\n",
       "1      Risti Tagor\n",
       "2    Herman Pelani\n",
       "3        Anjasmara\n",
       "4            Roger\n",
       "dtype: object"
      ]
     },
     "execution_count": 6,
     "metadata": {},
     "output_type": "execute_result"
    }
   ],
   "source": [
    "pd.Series(teman)"
   ]
  },
  {
   "cell_type": "code",
   "execution_count": 7,
   "id": "28e5a645-1b1e-4ff0-8883-87958001a48a",
   "metadata": {},
   "outputs": [
    {
     "data": {
      "text/plain": [
       "list"
      ]
     },
     "execution_count": 7,
     "metadata": {},
     "output_type": "execute_result"
    }
   ],
   "source": [
    "type(teman)"
   ]
  },
  {
   "cell_type": "code",
   "execution_count": 8,
   "id": "c32a1a78-48a4-408d-bc8e-351b9444816a",
   "metadata": {},
   "outputs": [
    {
     "data": {
      "text/plain": [
       "0     Aldi Gunawan\n",
       "1      Risti Tagor\n",
       "2    Herman Pelani\n",
       "3        Anjasmara\n",
       "4            Roger\n",
       "dtype: object"
      ]
     },
     "execution_count": 8,
     "metadata": {},
     "output_type": "execute_result"
    }
   ],
   "source": [
    "pd.Series(teman)"
   ]
  },
  {
   "cell_type": "code",
   "execution_count": 9,
   "id": "cdcdc5cb-f824-4f0e-8459-3d439a4aa8d9",
   "metadata": {},
   "outputs": [],
   "source": [
    "usia = [17, 21, 22, 25]"
   ]
  },
  {
   "cell_type": "code",
   "execution_count": 10,
   "id": "f2849556-6eac-4df0-a49b-8cfc1f771f27",
   "metadata": {},
   "outputs": [
    {
     "data": {
      "text/plain": [
       "0    17\n",
       "1    21\n",
       "2    22\n",
       "3    25\n",
       "dtype: int64"
      ]
     },
     "execution_count": 10,
     "metadata": {},
     "output_type": "execute_result"
    }
   ],
   "source": [
    "pd.Series(usia)"
   ]
  },
  {
   "cell_type": "code",
   "execution_count": 11,
   "id": "53ebc195-3606-4b47-b992-55f4e2fd70e3",
   "metadata": {},
   "outputs": [],
   "source": [
    "    dataacak = [17, 'Karawang', 18.5, {'kondisi' : 100}]"
   ]
  },
  {
   "cell_type": "code",
   "execution_count": 12,
   "id": "fd1d0f74-77b3-450c-80cc-18660fa6de74",
   "metadata": {},
   "outputs": [
    {
     "data": {
      "text/plain": [
       "0                  17\n",
       "1            Karawang\n",
       "2                18.5\n",
       "3    {'kondisi': 100}\n",
       "dtype: object"
      ]
     },
     "execution_count": 12,
     "metadata": {},
     "output_type": "execute_result"
    }
   ],
   "source": [
    "pd.Series(dataacak)"
   ]
  },
  {
   "cell_type": "code",
   "execution_count": 14,
   "id": "183be5ec-b786-4415-93ff-caf07c231a3e",
   "metadata": {},
   "outputs": [],
   "source": [
    "teman = ['joni Indo', 'Steven William', 'Barry Prima', 'Arnold']"
   ]
  },
  {
   "cell_type": "code",
   "execution_count": 16,
   "id": "a4c7241a-e851-4542-b66a-b0910cda983a",
   "metadata": {},
   "outputs": [],
   "source": [
    "temanakrab = {0: 'Joni Indo' , 1: 'Steven William' , 2:'Barry Prima', 3:'Arnold'}"
   ]
  },
  {
   "cell_type": "code",
   "execution_count": 17,
   "id": "2971c8d5-36a8-4611-b366-4120a2e06836",
   "metadata": {},
   "outputs": [],
   "source": [
    "a = pd.Series(teman)\n",
    "b = pd.Series(temanakrab)"
   ]
  },
  {
   "cell_type": "code",
   "execution_count": 19,
   "id": "bb775e30-8043-4f74-9131-c23fd282e484",
   "metadata": {},
   "outputs": [
    {
     "data": {
      "text/plain": [
       "False"
      ]
     },
     "execution_count": 19,
     "metadata": {},
     "output_type": "execute_result"
    }
   ],
   "source": [
    "a.equals(b)"
   ]
  },
  {
   "cell_type": "code",
   "execution_count": 20,
   "id": "509bf264-785a-4edc-a646-9b97d327ab5f",
   "metadata": {},
   "outputs": [
    {
     "data": {
      "text/plain": [
       "list"
      ]
     },
     "execution_count": 20,
     "metadata": {},
     "output_type": "execute_result"
    }
   ],
   "source": [
    "type(teman)"
   ]
  },
  {
   "cell_type": "code",
   "execution_count": 21,
   "id": "22c717ab-e16d-4a61-a841-04022f4a18b5",
   "metadata": {},
   "outputs": [
    {
     "data": {
      "text/plain": [
       "Lucu                 joni Indo\n",
       "Menggemaskan    Steven William\n",
       "Nyebelin           Barry Prima\n",
       "Asyik                   Arnold\n",
       "dtype: object"
      ]
     },
     "execution_count": 21,
     "metadata": {},
     "output_type": "execute_result"
    }
   ],
   "source": [
    "pd.Series(data=teman, index=['Lucu', 'Menggemaskan', 'Nyebelin', 'Asyik'])"
   ]
  },
  {
   "cell_type": "code",
   "execution_count": 25,
   "id": "63c5cbe5-1721-4bc0-90c2-702295de1274",
   "metadata": {},
   "outputs": [
    {
     "data": {
      "text/plain": [
       "RangeIndex(start=0, stop=4, step=1)"
      ]
     },
     "execution_count": 25,
     "metadata": {},
     "output_type": "execute_result"
    }
   ],
   "source": [
    "pd.Series(teman).index"
   ]
  },
  {
   "cell_type": "code",
   "execution_count": null,
   "id": "cd7c28bb-cf3e-4a5d-bd28-6f131cc9fdf8",
   "metadata": {},
   "outputs": [],
   "source": [
    "pd.RangeIndex(start=5, stop=8, step=1)\n",
    "\n",
    "\n",
    "RangeIndex(start=5, stop=8, step=1)"
   ]
  },
  {
   "cell_type": "code",
   "execution_count": 5,
   "id": "2c1192b2-1c1a-4a46-bf08-1f13c35ea967",
   "metadata": {},
   "outputs": [
    {
     "data": {
      "text/plain": [
       "[5, 6, 7]"
      ]
     },
     "execution_count": 5,
     "metadata": {},
     "output_type": "execute_result"
    }
   ],
   "source": [
    "list(pd.RangeIndex(start=5, stop=8, step=1))"
   ]
  },
  {
   "cell_type": "code",
   "execution_count": 7,
   "id": "e6364167-8517-4075-a655-24faefcdfd73",
   "metadata": {},
   "outputs": [],
   "source": [
    "angka = pd.Series(range(100))"
   ]
  },
  {
   "cell_type": "code",
   "execution_count": 8,
   "id": "b7a25c54-dca2-4423-9333-033ecd38360b",
   "metadata": {},
   "outputs": [
    {
     "data": {
      "text/plain": [
       "0      0\n",
       "1      1\n",
       "2      2\n",
       "3      3\n",
       "4      4\n",
       "      ..\n",
       "95    95\n",
       "96    96\n",
       "97    97\n",
       "98    98\n",
       "99    99\n",
       "Length: 100, dtype: int64"
      ]
     },
     "execution_count": 8,
     "metadata": {},
     "output_type": "execute_result"
    }
   ],
   "source": [
    "angka"
   ]
  },
  {
   "cell_type": "code",
   "execution_count": 9,
   "id": "92fc2591-5d99-4734-a6a5-cbe16d908bb4",
   "metadata": {},
   "outputs": [
    {
     "data": {
      "text/plain": [
       "0    0\n",
       "1    1\n",
       "2    2\n",
       "3    3\n",
       "4    4\n",
       "dtype: int64"
      ]
     },
     "execution_count": 9,
     "metadata": {},
     "output_type": "execute_result"
    }
   ],
   "source": [
    "angka.head()"
   ]
  },
  {
   "cell_type": "code",
   "execution_count": 10,
   "id": "72ce4df7-6724-41d7-b388-f50f4f7ef7db",
   "metadata": {},
   "outputs": [
    {
     "data": {
      "text/plain": [
       "95    95\n",
       "96    96\n",
       "97    97\n",
       "98    98\n",
       "99    99\n",
       "dtype: int64"
      ]
     },
     "execution_count": 10,
     "metadata": {},
     "output_type": "execute_result"
    }
   ],
   "source": [
    "angka.tail()"
   ]
  },
  {
   "cell_type": "code",
   "execution_count": null,
   "id": "72003985-af5d-4f97-8e8a-6538fb08e0e4",
   "metadata": {},
   "outputs": [],
   "source": []
  }
 ],
 "metadata": {
  "kernelspec": {
   "display_name": "Python 3 (ipykernel)",
   "language": "python",
   "name": "python3"
  },
  "language_info": {
   "codemirror_mode": {
    "name": "ipython",
    "version": 3
   },
   "file_extension": ".py",
   "mimetype": "text/x-python",
   "name": "python",
   "nbconvert_exporter": "python",
   "pygments_lexer": "ipython3",
   "version": "3.11.7"
  }
 },
 "nbformat": 4,
 "nbformat_minor": 5
}
